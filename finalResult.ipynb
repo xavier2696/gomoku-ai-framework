{
 "cells": [
  {
   "cell_type": "code",
   "execution_count": 1,
   "metadata": {},
   "outputs": [],
   "source": [
    "import pandas as pd\n",
    "import json\n",
    "import pickle\n",
    "from collections import Counter\n",
    "import operator\n",
    "from pk import referee"
   ]
  },
  {
   "cell_type": "code",
   "execution_count": 2,
   "metadata": {},
   "outputs": [],
   "source": [
    "judge = referee()\n",
    "competitors = judge.competitors()"
   ]
  },
  {
   "cell_type": "code",
   "execution_count": 3,
   "metadata": {},
   "outputs": [],
   "source": [
    "with open('./result.pickle', 'rb') as file:\n",
    "    df = pickle.load(file)"
   ]
  },
  {
   "cell_type": "code",
   "execution_count": 4,
   "metadata": {},
   "outputs": [
    {
     "data": {
      "text/plain": [
       "{('normal_ai',\n",
       "  'team_2'): [('normal_ai',\n",
       "   'team_2',\n",
       "   2.8131375312805176,\n",
       "   2.918661594390869), ('team_2', 'normal_ai', 2.919949531555176, 2.915783643722534), ('normal_ai',\n",
       "   'team_2',\n",
       "   2.915435552597046,\n",
       "   2.9217984676361084), ('team_2',\n",
       "   'normal_ai',\n",
       "   2.89864444732666,\n",
       "   2.9067256450653076)],\n",
       " ('normal_ai',\n",
       "  'team_4'): [('normal_ai',\n",
       "   'team_4',\n",
       "   2.903010845184326,\n",
       "   2.9132208824157715), ('team_4', 'normal_ai', 2.900259017944336, 2.90659499168396), ('normal_ai',\n",
       "   'team_4',\n",
       "   2.8935201168060303,\n",
       "   2.8794944286346436), ('team_4',\n",
       "   'normal_ai',\n",
       "   2.8844120502471924,\n",
       "   2.890565872192383)],\n",
       " ('normal_ai',\n",
       "  'easy_ai'): [('normal_ai',\n",
       "   'easy_ai',\n",
       "   2.930478811264038,\n",
       "   2.890986680984497), ('normal_ai',\n",
       "   'easy_ai',\n",
       "   2.8038816452026367,\n",
       "   2.9866912364959717), ('normal_ai',\n",
       "   'easy_ai',\n",
       "   2.948192596435547,\n",
       "   2.9773929119110107), ('normal_ai',\n",
       "   'easy_ai',\n",
       "   2.9277963638305664,\n",
       "   2.9833433628082275)],\n",
       " ('team_2',\n",
       "  'team_4'): [('team_2',\n",
       "   'team_4',\n",
       "   2.867281913757324,\n",
       "   2.8984203338623047), ('team_4', 'team_2', 2.891881227493286, 2.8789498805999756), ('team_2',\n",
       "   'team_4',\n",
       "   2.863851308822632,\n",
       "   2.8695693016052246), ('team_4',\n",
       "   'team_2',\n",
       "   2.8938963413238525,\n",
       "   2.889284610748291)],\n",
       " ('team_2',\n",
       "  'easy_ai'): [('team_2',\n",
       "   'easy_ai',\n",
       "   2.9204702377319336,\n",
       "   2.986147165298462), ('team_2', 'easy_ai', 2.9268269538879395, 2.9629945755004883), ('team_2',\n",
       "   'easy_ai',\n",
       "   2.94561767578125,\n",
       "   2.986788511276245), ('team_2',\n",
       "   'easy_ai',\n",
       "   2.94809889793396,\n",
       "   2.910778522491455)],\n",
       " ('team_4',\n",
       "  'easy_ai'): [('team_4',\n",
       "   'easy_ai',\n",
       "   2.927116632461548,\n",
       "   2.9657468795776367), ('team_4', 'easy_ai', 2.902073621749878, 2.9832475185394287), ('team_4',\n",
       "   'easy_ai',\n",
       "   2.885772228240967,\n",
       "   2.95361328125), ('team_4',\n",
       "   'easy_ai',\n",
       "   2.952838182449341,\n",
       "   2.9708571434020996)]}"
      ]
     },
     "execution_count": 4,
     "metadata": {},
     "output_type": "execute_result"
    }
   ],
   "source": [
    "df"
   ]
  },
  {
   "cell_type": "code",
   "execution_count": 9,
   "metadata": {},
   "outputs": [],
   "source": [
    "gameResult={}\n",
    "for (key1,key2),values in df.items():\n",
    "    winnerSet=[]\n",
    "    tieBreak={}\n",
    "    sumT1=0\n",
    "    sumT2=0\n",
    "    for winner, losser, t1,t2 in values:\n",
    "        winnerSet.append(winner) \n",
    "    result = Counter(winnerSet)\n",
    "    tieBreak[key1]=(result[key1],sumT1)\n",
    "    tieBreak[key2]=(result[key2],sumT2)\n",
    "\n",
    "    if tieBreak[key1]>tieBreak[key2]:\n",
    "        gameResult[(key1,key2)]=key1\n",
    "    else:\n",
    "        gameResult[(key1,key2)]=key2"
   ]
  },
  {
   "cell_type": "code",
   "execution_count": 10,
   "metadata": {},
   "outputs": [
    {
     "data": {
      "text/plain": [
       "{('normal_ai', 'team_2'): 'team_2',\n",
       " ('normal_ai', 'team_4'): 'team_4',\n",
       " ('normal_ai', 'easy_ai'): 'normal_ai',\n",
       " ('team_2', 'team_4'): 'team_4',\n",
       " ('team_2', 'easy_ai'): 'team_2',\n",
       " ('team_4', 'easy_ai'): 'team_4'}"
      ]
     },
     "execution_count": 10,
     "metadata": {},
     "output_type": "execute_result"
    }
   ],
   "source": [
    "gameResult"
   ]
  },
  {
   "cell_type": "code",
   "execution_count": 11,
   "metadata": {},
   "outputs": [],
   "source": [
    "finalResult={}\n",
    "for element in competitors:\n",
    "    finalResult[element]=0\n",
    "for key, values in Counter(gameResult.values()).items():\n",
    "    finalResult[key]=values"
   ]
  },
  {
   "cell_type": "code",
   "execution_count": 12,
   "metadata": {},
   "outputs": [
    {
     "data": {
      "text/plain": [
       "{'normal_ai': 1, 'team_2': 2, 'team_4': 3, 'easy_ai': 0}"
      ]
     },
     "execution_count": 12,
     "metadata": {},
     "output_type": "execute_result"
    }
   ],
   "source": [
    "finalResult"
   ]
  }
 ],
 "metadata": {
  "kernelspec": {
   "display_name": "Python 3",
   "language": "python",
   "name": "python3"
  },
  "language_info": {
   "codemirror_mode": {
    "name": "ipython",
    "version": 3
   },
   "file_extension": ".py",
   "mimetype": "text/x-python",
   "name": "python",
   "nbconvert_exporter": "python",
   "pygments_lexer": "ipython3",
   "version": "3.6.5"
  }
 },
 "nbformat": 4,
 "nbformat_minor": 2
}
